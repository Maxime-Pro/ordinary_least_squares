{
 "cells": [
  {
   "cell_type": "code",
   "execution_count": 1,
   "metadata": {},
   "outputs": [
    {
     "name": "stdout",
     "output_type": "stream",
     "text": [
      "importing Jupyter notebook from package.ipynb\n"
     ]
    }
   ],
   "source": [
    "import import_ipynb\n",
    "from package import *"
   ]
  },
  {
   "cell_type": "raw",
   "metadata": {},
   "source": [
    "La formule de prédiction générale pour un modèle linéaire : \n",
    "\n",
    "y = w[0]*x[0]+w[1]*x[1]+...+w[p]*x[p]+b\n",
    "\n",
    "avec :\n",
    "p in [1,...,n], x[p] représente les caractéristiques d'un certain point de données\n",
    "w et b sont les paramètres du modèle qui est entraîné. \n",
    "y est la prédiction réalisée par le modèle"
   ]
  },
  {
   "cell_type": "raw",
   "metadata": {},
   "source": [
    "Nous utilisons le jeu de données \"wave\""
   ]
  },
  {
   "cell_type": "code",
   "execution_count": 2,
   "metadata": {},
   "outputs": [
    {
     "name": "stdout",
     "output_type": "stream",
     "text": [
      "w[0]: 0.393906  b: -0.031804\n"
     ]
    },
    {
     "data": {
      "image/png": "[encoded data removed]",
      "text/plain": [
       "<Figure size 576x576 with 1 Axes>"
      ]
     },
     "metadata": {
      "needs_background": "light"
     },
     "output_type": "display_data"
    }
   ],
   "source": [
    "mglearn.plots.plot_linear_regression_wave()"
   ]
  },
  {
   "cell_type": "raw",
   "metadata": {},
   "source": [
    "Ordinary least squares = méthodé des moindres carrés ordinaires (MC0) ou régression linéaire \n",
    "\n",
    "Cette méthode trouve les paramètres w et b en minimisant la valeur de l'erreur quadratique moyenne (MSE : mean squared error) entre prédictions et cibles de la régression vraies, soit y, portant sur le jeu d'apprentissage. \n",
    "\n",
    "L'erreur quadratique moyenne est la somme des différences au carré entre prédictions et valeurs réelles divisée par le nombre d'échantillons. \n",
    "\n",
    "La régression n'a pas de paramètre, ce qui est un avantage mais implique qu'elle ne permet pas de contrôler la complexité du modèle. "
   ]
  },
  {
   "cell_type": "code",
   "execution_count": 9,
   "metadata": {},
   "outputs": [],
   "source": [
    "from sklearn.model_selection import train_test_split\n",
    "from sklearn.linear_model import LinearRegression\n",
    "\n",
    "X, y = mglearn.datasets.make_wave(n_samples=60)\n",
    "X_train, X_test, y_train, y_test = train_test_split(X, y, random_state=42)\n",
    "\n",
    "lr = LinearRegression().fit(X_train, y_train)"
   ]
  },
  {
   "cell_type": "raw",
   "metadata": {},
   "source": [
    "Les coefficients w se situent dans l'attribut \"coef_\" et b dans l'attribut \"intercept_\""
   ]
  },
  {
   "cell_type": "code",
   "execution_count": 14,
   "metadata": {},
   "outputs": [
    {
     "name": "stdout",
     "output_type": "stream",
     "text": [
      "lr.coef_: [0.39390555]\n",
      "lr.intercept_: -0.03180434302675976\n"
     ]
    }
   ],
   "source": [
    "print('lr.coef_: {}'.format(lr.coef_))\n",
    "print('lr.intercept_: {}'.format(lr.intercept_))"
   ]
  },
  {
   "cell_type": "raw",
   "metadata": {},
   "source": [
    "intercept_ est toujours un nombre en virgule flottane tandis que coef_ est un tableau Numpy contenant une entrée par caractéristique source."
   ]
  },
  {
   "cell_type": "raw",
   "metadata": {},
   "source": [
    "Performance de notre jeu d'apprentissage et de notre jeu de test : "
   ]
  },
  {
   "cell_type": "code",
   "execution_count": 15,
   "metadata": {},
   "outputs": [
    {
     "name": "stdout",
     "output_type": "stream",
     "text": [
      "Training set score: 0.67\n",
      "Test set score: 0.66\n"
     ]
    }
   ],
   "source": [
    "print('Training set score: {:.2f}'.format(lr.score(X_train, y_train)))\n",
    "print('Test set score: {:.2f}'.format(lr.score(X_test, y_test)))"
   ]
  },
  {
   "cell_type": "raw",
   "metadata": {},
   "source": [
    "R^2 aux alentours de 0,66 n'est pas très bon. Mais les scores pour les deux jeux sont proches. Pour ce jeu de données possédant qu'une seule dimension, le risque de surapprentissage (overfitting) est faible. \n",
    "Avec des dimensions supérieurs, les modèles linéaires gagnent en puissance donc aussi en complexité ; ce qui augmente le risque de surapprentissage."
   ]
  },
  {
   "cell_type": "raw",
   "metadata": {},
   "source": [
    "Prenons un jeu de données plus lourd : Boston House"
   ]
  },
  {
   "cell_type": "code",
   "execution_count": 16,
   "metadata": {},
   "outputs": [],
   "source": [
    "X, y = mglearn.datasets.load_extended_boston()\n",
    "\n",
    "X_train, X_test, y_train, y_test = train_test_split(X, y, random_state=0)\n",
    "lr = LinearRegression().fit(X_train, y_train)"
   ]
  },
  {
   "cell_type": "code",
   "execution_count": 17,
   "metadata": {},
   "outputs": [
    {
     "name": "stdout",
     "output_type": "stream",
     "text": [
      "Training set score: 0.95\n",
      "Test set score: 0.61\n"
     ]
    }
   ],
   "source": [
    "print('Training set score: {:.2f}'.format(lr.score(X_train, y_train)))\n",
    "print('Test set score: {:.2f}'.format(lr.score(X_test, y_test)))"
   ]
  },
  {
   "cell_type": "raw",
   "metadata": {},
   "source": [
    "La différence entre les scores est clairement un signe de surapprentissage. On doit donc trouver un modèle qui permette de contrôler sa complexité. Une des alternatives les lus courantes est la regression_ridge. "
   ]
  }
 ],
 "metadata": {
  "kernelspec": {
   "display_name": "Python 3",
   "language": "python",
   "name": "python3"
  },
  "language_info": {
   "codemirror_mode": {
    "name": "ipython",
    "version": 3
   },
   "file_extension": ".py",
   "mimetype": "text/x-python",
   "name": "python",
   "nbconvert_exporter": "python",
   "pygments_lexer": "ipython3",
   "version": "3.8.3"
  }
 },
 "nbformat": 4,
 "nbformat_minor": 4
}
